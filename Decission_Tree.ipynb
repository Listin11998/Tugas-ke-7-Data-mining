{
  "nbformat": 4,
  "nbformat_minor": 0,
  "metadata": {
    "colab": {
      "name": "Decission_Tree.ipynb",
      "private_outputs": true,
      "provenance": []
    },
    "kernelspec": {
      "name": "python3",
      "display_name": "Python 3"
    },
    "language_info": {
      "name": "python"
    }
  },
  "cells": [
    {
      "cell_type": "markdown",
      "source": [
        "##*Nama : Listin Yuliani*\n",
        "##*NIM   : A11.2019.11998*\n",
        " --------------------------------\n"
      ],
      "metadata": {
        "id": "GOiQdZolnrWp"
      }
    },
    {
      "cell_type": "code",
      "execution_count": null,
      "metadata": {
        "id": "91B8yaSel_NM"
      },
      "outputs": [],
      "source": [
        "from sklearn.tree import DecisionTreeClassifier\n",
        "from sklearn import datasets\n",
        "import matplotlib.pyplot as plt"
      ]
    },
    {
      "cell_type": "code",
      "source": [
        "iris = datasets .load_iris ()\n",
        "features = iris['data']\n",
        "target = iris['target']"
      ],
      "metadata": {
        "id": "pPE1z60SmM7v"
      },
      "execution_count": null,
      "outputs": []
    },
    {
      "cell_type": "code",
      "source": [
        "print(features)"
      ],
      "metadata": {
        "id": "pQ99y_uKmOB3"
      },
      "execution_count": null,
      "outputs": []
    },
    {
      "cell_type": "code",
      "source": [
        "len(features)"
      ],
      "metadata": {
        "id": "BRpEClf1nC7N"
      },
      "execution_count": null,
      "outputs": []
    },
    {
      "cell_type": "code",
      "source": [
        "decisiontree = DecisionTreeClassifier (random_state=0, max_depth=None,\n",
        "                                       min_samples_split=2, min_samples_leaf=1,\n",
        "                                       min_weight_fraction_leaf=0,\n",
        "                                       max_leaf_nodes=None,\n",
        "                                       min_impurity_decrease=0)"
      ],
      "metadata": {
        "id": "z_2jVhXDmRkJ"
      },
      "execution_count": null,
      "outputs": []
    },
    {
      "cell_type": "code",
      "source": [
        "model = decisiontree.fit(features, target)"
      ],
      "metadata": {
        "id": "zae-dZ9Bm2YI"
      },
      "execution_count": null,
      "outputs": []
    },
    {
      "cell_type": "code",
      "source": [
        "observation = [[5, 4, 3, 2]]\n",
        "model.predict(observation)\n",
        "model.predict_proba(observation)"
      ],
      "metadata": {
        "id": "-3AVyQTHnHYn"
      },
      "execution_count": null,
      "outputs": []
    },
    {
      "cell_type": "code",
      "source": [
        "import pydotplus\n",
        "from sklearn import tree\n",
        "dot_data = tree.export_graphviz(decisiontree, out_file=None,\n",
        "                                feature_names=iris ['feature_names'],\n",
        "                                class_names =iris ['target_names'])\n",
        "from IPython.display import Image\n",
        "graph = pydotplus .graph_from_dot_data (dot_data)\n",
        "Image(graph. create_png())\n",
        "graph.write_png('Iris.png')"
      ],
      "metadata": {
        "id": "dWJh44MwnJ1R"
      },
      "execution_count": null,
      "outputs": []
    }
  ]
}